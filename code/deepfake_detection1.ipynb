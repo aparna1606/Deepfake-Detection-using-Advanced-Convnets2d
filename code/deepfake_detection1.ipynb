{
  "metadata": {
    "kernelspec": {
      "language": "python",
      "display_name": "Python 3",
      "name": "python3"
    },
    "language_info": {
      "name": "python",
      "version": "3.6.6",
      "mimetype": "text/x-python",
      "codemirror_mode": {
        "name": "ipython",
        "version": 3
      },
      "pygments_lexer": "ipython3",
      "nbconvert_exporter": "python",
      "file_extension": ".py"
    },
    "colab": {
      "provenance": []
    },
    "accelerator": "GPU",
    "gpuClass": "standard"
  },
  "nbformat_minor": 0,
  "nbformat": 4,
  "cells": [
    {
      "cell_type": "code",
      "source": [
        "import numpy as np \n",
        "import pandas as pd\n",
        "import os\n",
        "import dlib\n",
        "import cv2\n",
        "import os\n",
        "import re\n",
        "import json\n",
        "from pylab import *\n",
        "from PIL import Image, ImageChops, ImageEnhance"
      ],
      "metadata": {
        "_uuid": "8f2839f25d086af736a60e9eeb907d3b93b6e0e5",
        "_cell_guid": "b1076dfc-b9ad-4769-8c92-a6c4dae69d19",
        "execution": {
          "iopub.status.busy": "2022-04-08T03:09:32.241644Z",
          "iopub.execute_input": "2022-04-08T03:09:32.241940Z",
          "iopub.status.idle": "2022-04-08T03:09:33.058833Z",
          "shell.execute_reply.started": "2022-04-08T03:09:32.241887Z",
          "shell.execute_reply": "2022-04-08T03:09:33.058067Z"
        },
        "trusted": true,
        "id": "Wp7HLs7Noy_p"
      },
      "execution_count": null,
      "outputs": []
    },
    {
      "cell_type": "markdown",
      "source": [
        "!pip install dlib"
      ],
      "metadata": {
        "execution": {
          "iopub.status.busy": "2022-03-28T04:16:29.973807Z",
          "iopub.execute_input": "2022-03-28T04:16:29.974056Z"
        },
        "id": "ExIbcYTFoy_x"
      }
    },
    {
      "cell_type": "code",
      "source": [
        "!pip install dlib\n",
        "!pip install opendatasets"
      ],
      "metadata": {
        "execution": {
          "iopub.status.busy": "2022-04-08T03:09:33.064008Z",
          "iopub.execute_input": "2022-04-08T03:09:33.064268Z",
          "iopub.status.idle": "2022-04-08T03:20:39.514292Z",
          "shell.execute_reply.started": "2022-04-08T03:09:33.064222Z",
          "shell.execute_reply": "2022-04-08T03:20:39.513451Z"
        },
        "trusted": true,
        "id": "wcI16u18oy_0"
      },
      "execution_count": null,
      "outputs": []
    },
    {
      "cell_type": "code",
      "source": [
        "import opendatasets as od\n",
        "od.download('https://www.kaggle.com/competitions/deepfake-detection-challenge/data')"
      ],
      "metadata": {
        "colab": {
          "base_uri": "https://localhost:8080/"
        },
        "id": "uwb6p-zepNgI",
        "outputId": "7b00f719-af08-41f1-9584-6a286c6c903a"
      },
      "execution_count": null,
      "outputs": [
        {
          "output_type": "stream",
          "name": "stdout",
          "text": [
            "Please provide your Kaggle credentials to download this dataset. Learn more: http://bit.ly/kaggle-creds\n",
            "Your Kaggle username: surby086\n",
            "Your Kaggle Key: ··········\n",
            "Downloading deepfake-detection-challenge.zip to ./deepfake-detection-challenge\n"
          ]
        },
        {
          "output_type": "stream",
          "name": "stderr",
          "text": [
            "100%|██████████| 4.13G/4.13G [00:49<00:00, 88.8MB/s]\n"
          ]
        },
        {
          "output_type": "stream",
          "name": "stdout",
          "text": [
            "\n",
            "Extracting archive ./deepfake-detection-challenge/deepfake-detection-challenge.zip to ./deepfake-detection-challenge\n"
          ]
        }
      ]
    },
    {
      "cell_type": "code",
      "source": [
        "os.mkdir('/dataset')\n",
        "os.mkdir('/dataset/real')\n",
        "os.mkdir('/dataset/fake')"
      ],
      "metadata": {
        "execution": {
          "iopub.status.busy": "2022-04-08T03:20:40.091302Z",
          "iopub.execute_input": "2022-04-08T03:20:40.094182Z",
          "iopub.status.idle": "2022-04-08T03:20:40.101173Z",
          "shell.execute_reply.started": "2022-04-08T03:20:40.091603Z",
          "shell.execute_reply": "2022-04-08T03:20:40.100129Z"
        },
        "trusted": true,
        "id": "VdwFJEcjoy_2"
      },
      "execution_count": null,
      "outputs": []
    },
    {
      "cell_type": "code",
      "source": [
        "train_frame_folder = './deepfake-detection-challenge/train_sample_videos'\n",
        "with open(os.path.join(train_frame_folder, 'metadata.json'), 'r') as file:\n",
        "    data = json.load(file)\n",
        "list_of_train_data = [f for f in os.listdir(train_frame_folder) if f.endswith('.mp4')]\n",
        "detector = dlib.get_frontal_face_detector()\n",
        "for vid in list_of_train_data:\n",
        "    count = 0\n",
        "    cap = cv2.VideoCapture(os.path.join(train_frame_folder, vid))\n",
        "    frameRate = cap.get(5)\n",
        "    while cap.isOpened():\n",
        "        frameId = cap.get(1)\n",
        "        ret, frame = cap.read()\n",
        "        if ret != True:\n",
        "            break\n",
        "        if frameId % ((int(frameRate)+1)*1) == 0:\n",
        "            face_rects, scores, idx = detector.run(frame, 0)\n",
        "            for i, d in enumerate(face_rects):\n",
        "                x1 = d.left()\n",
        "                y1 = d.top()\n",
        "                x2 = d.right()\n",
        "                y2 = d.bottom()\n",
        "                crop_img = frame[y1:y2, x1:x2]\n",
        "                if data[vid]['label'] == 'REAL':\n",
        "                    cv2.imwrite('/dataset/real/'+vid.split('.')[0]+'_'+str(count)+'.png', cv2.resize(crop_img, (128, 128)))\n",
        "                elif data[vid]['label'] == 'FAKE':\n",
        "                    cv2.imwrite('/dataset/fake/'+vid.split('.')[0]+'_'+str(count)+'.png', cv2.resize(crop_img, (128, 128)))\n",
        "                count+=1"
      ],
      "metadata": {
        "execution": {
          "iopub.status.busy": "2022-04-08T03:43:35.339588Z",
          "iopub.execute_input": "2022-04-08T03:43:35.339891Z",
          "iopub.status.idle": "2022-04-08T04:23:17.181887Z",
          "shell.execute_reply.started": "2022-04-08T03:43:35.339836Z",
          "shell.execute_reply": "2022-04-08T04:23:17.181049Z"
        },
        "trusted": true,
        "id": "lAMp-6r1oy_3"
      },
      "execution_count": null,
      "outputs": []
    },
    {
      "cell_type": "code",
      "source": [
        "import os\n",
        "import cv2\n",
        "import json\n",
        "import tensorflow as tf\n",
        "import numpy as np\n",
        "import matplotlib.pyplot as plt\n",
        "import seaborn as sn\n",
        "import pandas as pd\n",
        "from tensorflow.keras.preprocessing.image import ImageDataGenerator, img_to_array, load_img\n",
        "from tensorflow.keras.utils import to_categorical\n",
        "from sklearn.model_selection import train_test_split\n",
        "from sklearn.metrics import confusion_matrix"
      ],
      "metadata": {
        "execution": {
          "iopub.status.busy": "2022-04-08T04:24:31.549666Z",
          "iopub.execute_input": "2022-04-08T04:24:31.550001Z",
          "iopub.status.idle": "2022-04-08T04:24:36.746945Z",
          "shell.execute_reply.started": "2022-04-08T04:24:31.549929Z",
          "shell.execute_reply": "2022-04-08T04:24:36.746231Z"
        },
        "trusted": true,
        "id": "1itZnnAJoy_4"
      },
      "execution_count": null,
      "outputs": []
    },
    {
      "cell_type": "code",
      "source": [
        "input_shape = (128, 128, 3)\n",
        "data_dir = '/dataset'\n",
        "\n",
        "real_data = [f for f in os.listdir(data_dir+'/real') if f.endswith('.png')]\n",
        "fake_data = [f for f in os.listdir(data_dir+'/fake') if f.endswith('.png')]\n",
        "\n",
        "X = []\n",
        "Y = []\n",
        "\n",
        "for img in real_data:\n",
        "    X.append(img_to_array(load_img(data_dir+'/real/'+img)).flatten() / 255.0)\n",
        "    Y.append(1)\n",
        "for img in fake_data:\n",
        "    X.append(img_to_array(load_img(data_dir+'/fake/'+img)).flatten() / 255.0)\n",
        "    Y.append(0)\n",
        "\n",
        "Y_val_org = Y\n",
        "\n",
        "#Normalization\n",
        "X = np.array(X)\n",
        "Y = to_categorical(Y, 2)\n",
        "\n",
        "#Reshape\n",
        "X = X.reshape(-1, 128, 128, 3)\n",
        "\n",
        "#Train-Test split\n",
        "X_train, X_val, Y_train, Y_val = train_test_split(X, Y, test_size = 0.2, random_state=5)"
      ],
      "metadata": {
        "execution": {
          "iopub.status.busy": "2022-04-08T04:24:46.974835Z",
          "iopub.execute_input": "2022-04-08T04:24:46.975185Z",
          "iopub.status.idle": "2022-04-08T04:24:51.171486Z",
          "shell.execute_reply.started": "2022-04-08T04:24:46.975124Z",
          "shell.execute_reply": "2022-04-08T04:24:51.170517Z"
        },
        "trusted": true,
        "id": "Uf0ddFAgoy_5"
      },
      "execution_count": null,
      "outputs": []
    },
    {
      "cell_type": "code",
      "source": [
        "print(Y_train)"
      ],
      "metadata": {
        "execution": {
          "iopub.status.busy": "2022-04-08T03:43:23.580275Z",
          "iopub.status.idle": "2022-04-08T03:43:23.580856Z"
        },
        "trusted": true,
        "colab": {
          "base_uri": "https://localhost:8080/"
        },
        "id": "YvCjAtDAoy_6",
        "outputId": "e410c3b0-4aa5-4a9a-a2be-1cf195fc74f3"
      },
      "execution_count": null,
      "outputs": [
        {
          "output_type": "stream",
          "name": "stdout",
          "text": [
            "[[1. 0.]\n",
            " [0. 1.]\n",
            " [1. 0.]\n",
            " ...\n",
            " [1. 0.]\n",
            " [1. 0.]\n",
            " [1. 0.]]\n"
          ]
        }
      ]
    },
    {
      "cell_type": "code",
      "source": [
        "from tensorflow.keras.applications import InceptionResNetV2\n",
        "from tensorflow.keras.layers import Conv2D\n",
        "from tensorflow.keras.layers import MaxPooling2D\n",
        "from tensorflow.keras.layers import Flatten\n",
        "from tensorflow.keras.layers import Dense\n",
        "from tensorflow.keras.layers import Dropout\n",
        "from tensorflow.keras.layers import InputLayer\n",
        "from tensorflow.keras.layers import GlobalAveragePooling2D\n",
        "from tensorflow.keras.models import Sequential\n",
        "from tensorflow.keras.models import Model \n",
        "from tensorflow.keras import optimizers\n",
        "from tensorflow.keras.callbacks import ReduceLROnPlateau, EarlyStopping\n",
        "\n",
        "googleNet_model = InceptionResNetV2(include_top=False, weights='imagenet', input_shape=input_shape)\n",
        "googleNet_model.trainable = True\n",
        "model = Sequential()\n",
        "model.add(googleNet_model)\n",
        "model.add(GlobalAveragePooling2D())\n",
        "model.add(Dense(units=2, activation='softmax'))\n",
        "model.compile(loss='binary_crossentropy',\n",
        "              optimizer=optimizers.Adam(lr=1e-5, beta_1=0.9, beta_2=0.999, epsilon=None, decay=0.0, amsgrad=False),\n",
        "              metrics=['accuracy'])\n",
        "model.summary()"
      ],
      "metadata": {
        "execution": {
          "iopub.status.busy": "2022-04-08T04:26:01.884262Z",
          "iopub.execute_input": "2022-04-08T04:26:01.884560Z",
          "iopub.status.idle": "2022-04-08T04:26:23.818822Z",
          "shell.execute_reply.started": "2022-04-08T04:26:01.884509Z",
          "shell.execute_reply": "2022-04-08T04:26:23.817819Z"
        },
        "trusted": true,
        "colab": {
          "base_uri": "https://localhost:8080/"
        },
        "id": "Blzj040Uoy_7",
        "outputId": "57f07d3c-1943-41de-ee10-b4bbd48beae5"
      },
      "execution_count": null,
      "outputs": [
        {
          "output_type": "stream",
          "name": "stdout",
          "text": [
            "Downloading data from https://storage.googleapis.com/tensorflow/keras-applications/inception_resnet_v2/inception_resnet_v2_weights_tf_dim_ordering_tf_kernels_notop.h5\n",
            "219055592/219055592 [==============================] - 2s 0us/step\n",
            "Model: \"sequential\"\n",
            "_________________________________________________________________\n",
            " Layer (type)                Output Shape              Param #   \n",
            "=================================================================\n",
            " inception_resnet_v2 (Functi  (None, 2, 2, 1536)       54336736  \n",
            " onal)                                                           \n",
            "                                                                 \n",
            " global_average_pooling2d (G  (None, 1536)             0         \n",
            " lobalAveragePooling2D)                                          \n",
            "                                                                 \n",
            " dense (Dense)               (None, 2)                 3074      \n",
            "                                                                 \n",
            "=================================================================\n",
            "Total params: 54,339,810\n",
            "Trainable params: 54,279,266\n",
            "Non-trainable params: 60,544\n",
            "_________________________________________________________________\n"
          ]
        },
        {
          "output_type": "stream",
          "name": "stderr",
          "text": [
            "/usr/local/lib/python3.7/dist-packages/keras/optimizers/optimizer_v2/adam.py:110: UserWarning: The `lr` argument is deprecated, use `learning_rate` instead.\n",
            "  super(Adam, self).__init__(name, **kwargs)\n"
          ]
        }
      ]
    },
    {
      "cell_type": "code",
      "source": [
        "early_stopping = EarlyStopping(monitor='val_loss',\n",
        "                               min_delta=0,\n",
        "                               patience=2,\n",
        "                               verbose=0, mode='auto')\n",
        "EPOCHS = 20\n",
        "BATCH_SIZE = 100\n",
        "history = model.fit(X_train, Y_train, batch_size = BATCH_SIZE, epochs = EPOCHS, validation_data = (X_val, Y_val), verbose = 1)"
      ],
      "metadata": {
        "execution": {
          "iopub.status.busy": "2022-04-08T04:26:36.554442Z",
          "iopub.execute_input": "2022-04-08T04:26:36.554785Z",
          "iopub.status.idle": "2022-04-08T04:30:56.883758Z",
          "shell.execute_reply.started": "2022-04-08T04:26:36.554726Z",
          "shell.execute_reply": "2022-04-08T04:30:56.882817Z"
        },
        "trusted": true,
        "colab": {
          "base_uri": "https://localhost:8080/"
        },
        "id": "L5ZuBkU6oy_8",
        "outputId": "3e041179-d1c4-4b82-e131-667d5d3a48c0"
      },
      "execution_count": null,
      "outputs": [
        {
          "output_type": "stream",
          "name": "stdout",
          "text": [
            "Epoch 1/20\n",
            "30/30 [==============================] - 54s 823ms/step - loss: 0.6179 - accuracy: 0.7196 - val_loss: 0.6437 - val_accuracy: 0.6862\n",
            "Epoch 2/20\n",
            "30/30 [==============================] - 17s 576ms/step - loss: 0.5193 - accuracy: 0.8411 - val_loss: 0.6233 - val_accuracy: 0.6862\n",
            "Epoch 3/20\n",
            "30/30 [==============================] - 18s 592ms/step - loss: 0.4417 - accuracy: 0.8815 - val_loss: 0.6039 - val_accuracy: 0.6916\n",
            "Epoch 4/20\n",
            "30/30 [==============================] - 18s 592ms/step - loss: 0.3662 - accuracy: 0.9216 - val_loss: 0.5743 - val_accuracy: 0.7103\n",
            "Epoch 5/20\n",
            "30/30 [==============================] - 17s 584ms/step - loss: 0.2948 - accuracy: 0.9409 - val_loss: 0.5465 - val_accuracy: 0.7156\n",
            "Epoch 6/20\n",
            "30/30 [==============================] - 17s 582ms/step - loss: 0.2395 - accuracy: 0.9599 - val_loss: 0.5152 - val_accuracy: 0.7503\n",
            "Epoch 7/20\n",
            "30/30 [==============================] - 17s 583ms/step - loss: 0.1912 - accuracy: 0.9606 - val_loss: 0.4656 - val_accuracy: 0.7957\n",
            "Epoch 8/20\n",
            "30/30 [==============================] - 17s 584ms/step - loss: 0.1432 - accuracy: 0.9756 - val_loss: 0.4315 - val_accuracy: 0.8184\n",
            "Epoch 9/20\n",
            "30/30 [==============================] - 17s 585ms/step - loss: 0.1111 - accuracy: 0.9780 - val_loss: 0.3948 - val_accuracy: 0.8385\n",
            "Epoch 10/20\n",
            "30/30 [==============================] - 18s 586ms/step - loss: 0.0876 - accuracy: 0.9840 - val_loss: 0.3649 - val_accuracy: 0.8585\n",
            "Epoch 11/20\n",
            "30/30 [==============================] - 18s 586ms/step - loss: 0.0651 - accuracy: 0.9897 - val_loss: 0.3373 - val_accuracy: 0.8692\n",
            "Epoch 12/20\n",
            "30/30 [==============================] - 18s 587ms/step - loss: 0.0583 - accuracy: 0.9866 - val_loss: 0.3062 - val_accuracy: 0.8879\n",
            "Epoch 13/20\n",
            "30/30 [==============================] - 18s 589ms/step - loss: 0.0458 - accuracy: 0.9910 - val_loss: 0.2897 - val_accuracy: 0.8919\n",
            "Epoch 14/20\n",
            "30/30 [==============================] - 18s 589ms/step - loss: 0.0421 - accuracy: 0.9907 - val_loss: 0.2711 - val_accuracy: 0.9039\n",
            "Epoch 15/20\n",
            "30/30 [==============================] - 18s 585ms/step - loss: 0.0323 - accuracy: 0.9943 - val_loss: 0.2694 - val_accuracy: 0.9052\n",
            "Epoch 16/20\n",
            "30/30 [==============================] - 17s 585ms/step - loss: 0.0341 - accuracy: 0.9927 - val_loss: 0.2759 - val_accuracy: 0.9039\n",
            "Epoch 17/20\n",
            "30/30 [==============================] - 18s 586ms/step - loss: 0.0268 - accuracy: 0.9947 - val_loss: 0.2787 - val_accuracy: 0.9025\n",
            "Epoch 18/20\n",
            "30/30 [==============================] - 18s 586ms/step - loss: 0.0266 - accuracy: 0.9950 - val_loss: 0.2808 - val_accuracy: 0.9025\n",
            "Epoch 19/20\n",
            "30/30 [==============================] - 18s 590ms/step - loss: 0.0229 - accuracy: 0.9947 - val_loss: 0.2858 - val_accuracy: 0.9039\n",
            "Epoch 20/20\n",
            "30/30 [==============================] - 18s 586ms/step - loss: 0.0210 - accuracy: 0.9950 - val_loss: 0.2827 - val_accuracy: 0.9052\n"
          ]
        }
      ]
    },
    {
      "cell_type": "code",
      "source": [
        "f, (ax1, ax2) = plt.subplots(1, 2, figsize=(20, 4))\n",
        "t = f.suptitle('Pre-trained InceptionResNetV2 Transfer Learn with Fine-Tuning & Image Augmentation Performance ', fontsize=12)\n",
        "f.subplots_adjust(top=0.85, wspace=0.3)\n",
        "\n",
        "epoch_list = list(range(1,EPOCHS+1))\n",
        "ax1.plot(epoch_list, history.history['accuracy'], label='Train Accuracy')\n",
        "ax1.plot(epoch_list, history.history['val_accuracy'], label='Validation Accuracy')\n",
        "ax1.set_xticks(np.arange(0, EPOCHS+1, 1))\n",
        "ax1.set_ylabel('Accuracy Value')\n",
        "ax1.set_xlabel('Epoch #')\n",
        "ax1.set_title('Accuracy')\n",
        "l1 = ax1.legend(loc=\"best\")\n",
        "\n",
        "ax2.plot(epoch_list, history.history['loss'], label='Train Loss')\n",
        "ax2.plot(epoch_list, history.history['val_loss'], label='Validation Loss')\n",
        "ax2.set_xticks(np.arange(0, EPOCHS+1, 1))\n",
        "ax2.set_ylabel('Loss Value')\n",
        "ax2.set_xlabel('Epoch #')\n",
        "ax2.set_title('Loss')\n",
        "l2 = ax2.legend(loc=\"best\")"
      ],
      "metadata": {
        "execution": {
          "iopub.status.busy": "2022-04-08T03:43:23.585281Z",
          "iopub.status.idle": "2022-04-08T03:43:23.585862Z"
        },
        "trusted": true,
        "colab": {
          "base_uri": "https://localhost:8080/",
          "height": 293
        },
        "id": "vnJqx3pGoy_9",
        "outputId": "144475df-8af0-41e9-ce06-a46ee0ccb1ea"
      },
      "execution_count": null,
      "outputs": [
        {
          "output_type": "display_data",
          "data": {
            "text/plain": [
              "<Figure size 1440x288 with 2 Axes>"
            ],
            "image/png": "[encoded data removed]"
          },
          "metadata": {
            "needs_background": "light"
          }
        }
      ]
    },
    {
      "cell_type": "code",
      "source": [
        "def print_confusion_matrix(y_true, y_pred):\n",
        "    cm = confusion_matrix(y_true, y_pred)\n",
        "    print('True positive = ', cm[0][0])\n",
        "    print('False positive = ', cm[0][1])\n",
        "    print('False negative = ', cm[1][0])\n",
        "    print('True negative = ', cm[1][1])\n",
        "    print('\\n')\n",
        "    df_cm = pd.DataFrame(cm, range(2), range(2))\n",
        "    sn.set(font_scale=1.4) # for label size\n",
        "    sn.heatmap(df_cm, annot=True, annot_kws={\"size\": 16}) # font size\n",
        "    plt.ylabel('Actual label', size = 20)\n",
        "    plt.xlabel('Predicted label', size = 20)\n",
        "    plt.xticks(np.arange(2), ['Fake', 'Real'], size = 16)\n",
        "    plt.yticks(np.arange(2), ['Fake', 'Real'], size = 16)\n",
        "    plt.ylim([2, 0])\n",
        "    plt.show()\n",
        "    \n",
        "classes = np.argmax(model.predict(X), axis=1)\n",
        "print_confusion_matrix(Y_val_org, classes)"
      ],
      "metadata": {
        "execution": {
          "iopub.status.busy": "2022-04-08T04:46:11.067402Z",
          "iopub.execute_input": "2022-04-08T04:46:11.067729Z",
          "iopub.status.idle": "2022-04-08T04:46:14.563227Z",
          "shell.execute_reply.started": "2022-04-08T04:46:11.067671Z",
          "shell.execute_reply": "2022-04-08T04:46:14.562292Z"
        },
        "trusted": true,
        "colab": {
          "base_uri": "https://localhost:8080/",
          "height": 435
        },
        "id": "1IYOzCnloy_-",
        "outputId": "57574689-1235-40a4-d5ff-65a25bbdc238"
      },
      "execution_count": null,
      "outputs": [
        {
          "output_type": "stream",
          "name": "stdout",
          "text": [
            "118/118 [==============================] - 12s 64ms/step\n",
            "True positive =  2957\n",
            "False positive =  29\n",
            "False negative =  50\n",
            "True negative =  709\n",
            "\n",
            "\n"
          ]
        },
        {
          "output_type": "display_data",
          "data": {
            "text/plain": [
              "<Figure size 432x288 with 2 Axes>"
            ],
            "image/png": "[encoded data removed]"
          },
          "metadata": {}
        }
      ]
    },
    {
      "cell_type": "code",
      "source": [
        "model.save('deepfake-detection-model.h5')"
      ],
      "metadata": {
        "execution": {
          "iopub.status.busy": "2022-04-08T03:43:23.588664Z",
          "iopub.status.idle": "2022-04-08T03:43:23.589264Z"
        },
        "trusted": true,
        "id": "fBHHWkHkoy__"
      },
      "execution_count": null,
      "outputs": []
    },
    {
      "cell_type": "code",
      "source": [
        "import tensorflow as tf\n",
        "import dlib\n",
        "import cv2\n",
        "import os\n",
        "import numpy as np\n",
        "from PIL import Image, ImageChops, ImageEnhance\n",
        "from tensorflow.keras.models import load_model\n",
        "from tensorflow.keras.preprocessing.image import img_to_array, load_img"
      ],
      "metadata": {
        "execution": {
          "iopub.status.busy": "2022-04-08T03:43:23.590324Z",
          "iopub.status.idle": "2022-04-08T03:43:23.590909Z"
        },
        "trusted": true,
        "id": "2GndQ-MHoy__"
      },
      "execution_count": null,
      "outputs": []
    },
    {
      "cell_type": "code",
      "source": [
        "tf.__version__"
      ],
      "metadata": {
        "execution": {
          "iopub.status.busy": "2022-04-08T03:43:23.591954Z",
          "iopub.status.idle": "2022-04-08T03:43:23.592594Z"
        },
        "trusted": true,
        "colab": {
          "base_uri": "https://localhost:8080/",
          "height": 36
        },
        "id": "dnR5CzbEozAA",
        "outputId": "449a1c17-c431-4f02-c574-edc983e8d41a"
      },
      "execution_count": null,
      "outputs": [
        {
          "output_type": "execute_result",
          "data": {
            "text/plain": [
              "'2.9.2'"
            ],
            "application/vnd.google.colaboratory.intrinsic+json": {
              "type": "string"
            }
          },
          "metadata": {},
          "execution_count": 18
        }
      ]
    },
    {
      "cell_type": "code",
      "source": [
        "model = load_model('deepfake-detection-model.h5')"
      ],
      "metadata": {
        "execution": {
          "iopub.status.busy": "2022-04-08T03:43:23.593695Z",
          "iopub.status.idle": "2022-04-08T03:43:23.594294Z"
        },
        "trusted": true,
        "id": "6jfZAZruozAA"
      },
      "execution_count": null,
      "outputs": []
    },
    {
      "cell_type": "code",
      "source": [
        "input_shape = (128, 128, 3)\n",
        "pr_data = []\n",
        "detector = dlib.get_frontal_face_detector()\n",
        "cap = cv2.VideoCapture('./content/deepfake-detection-challenge/test_videos/jzmzdispyo.mp4')\n",
        "frameRate = cap.get(5)\n",
        "while cap.isOpened():\n",
        "    frameId = cap.get(1)\n",
        "    ret, frame = cap.read()\n",
        "    if ret != True:\n",
        "        break\n",
        "    if frameId % ((int(frameRate)+1)*1) == 0:\n",
        "        face_rects, scores, idx = detector.run(frame, 0)\n",
        "        for i, d in enumerate(face_rects):\n",
        "            x1 = d.left()\n",
        "            y1 = d.top()\n",
        "            x2 = d.right()\n",
        "            y2 = d.bottom()\n",
        "            crop_img = frame[y1:y2, x1:x2]\n",
        "            data = img_to_array(cv2.resize(crop_img, (128, 128))).flatten() / 255.0\n",
        "            data = data.reshape(-1, 128, 128, 3)\n",
        "            print(np.argmax(model.predict(data), axis=1))"
      ],
      "metadata": {
        "execution": {
          "iopub.status.busy": "2022-04-08T03:43:23.595366Z",
          "iopub.status.idle": "2022-04-08T03:43:23.595947Z"
        },
        "trusted": true,
        "id": "JeWO94NwozAB"
      },
      "execution_count": null,
      "outputs": []
    },
    {
      "cell_type": "code",
      "source": [
        "import sklearn.metrics\n",
        "cm = sklearn.metrics.accuracy_score(Y_val_org, np.argmax(model.predict(X), axis=1))"
      ],
      "metadata": {
        "execution": {
          "iopub.status.busy": "2022-04-08T04:36:10.488721Z",
          "iopub.execute_input": "2022-04-08T04:36:10.489051Z",
          "iopub.status.idle": "2022-04-08T04:36:19.952312Z",
          "shell.execute_reply.started": "2022-04-08T04:36:10.488993Z",
          "shell.execute_reply": "2022-04-08T04:36:19.951498Z"
        },
        "trusted": true,
        "colab": {
          "base_uri": "https://localhost:8080/"
        },
        "id": "OQj_-SnZozAC",
        "outputId": "d3e8cdfe-401f-4352-efb1-d08d62fdbc86"
      },
      "execution_count": null,
      "outputs": [
        {
          "output_type": "stream",
          "name": "stdout",
          "text": [
            "118/118 [==============================] - 7s 61ms/step\n"
          ]
        }
      ]
    },
    {
      "cell_type": "code",
      "source": [
        "print(cm)"
      ],
      "metadata": {
        "execution": {
          "iopub.status.busy": "2022-04-08T04:36:35.804157Z",
          "iopub.execute_input": "2022-04-08T04:36:35.804489Z",
          "iopub.status.idle": "2022-04-08T04:36:35.810254Z",
          "shell.execute_reply.started": "2022-04-08T04:36:35.804416Z",
          "shell.execute_reply": "2022-04-08T04:36:35.809219Z"
        },
        "trusted": true,
        "colab": {
          "base_uri": "https://localhost:8080/"
        },
        "id": "J9yeVBVkozAD",
        "outputId": "ff4bf28f-8f55-4b04-9d55-134e8cd8fefb"
      },
      "execution_count": null,
      "outputs": [
        {
          "output_type": "stream",
          "name": "stdout",
          "text": [
            "0.9789052069425901\n"
          ]
        }
      ]
    }
  ]
}